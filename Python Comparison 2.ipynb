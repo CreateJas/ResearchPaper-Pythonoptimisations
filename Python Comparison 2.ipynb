{
 "cells": [
  {
   "cell_type": "markdown",
   "id": "3f90d5fb-8982-4432-bc02-a79fd083ebca",
   "metadata": {},
   "source": [
    "# Comparing Standard python with optimisation techniques"
   ]
  },
  {
   "cell_type": "code",
   "execution_count": 28,
   "id": "8b4caaa1-277b-459c-ba41-3f1dad64f083",
   "metadata": {},
   "outputs": [
    {
     "name": "stdout",
     "output_type": "stream",
     "text": [
      "+---------------------------------------+------------------+\n",
      "| Function                              |   Time (seconds) |\n",
      "+=======================================+==================+\n",
      "| Standard Python (Sum of Squares):     |       9.64354    |\n",
      "+---------------------------------------+------------------+\n",
      "| Standard Python (Fibonacci):          |       0.0107446  |\n",
      "+---------------------------------------+------------------+\n",
      "| Standard Python (Factorial):          |       1.6762e-05 |\n",
      "+---------------------------------------+------------------+\n",
      "| Standard Python (Mean):               |       4.84304    |\n",
      "+---------------------------------------+------------------+\n",
      "| Standard Python (Standard Deviation): |      20.4175     |\n",
      "+---------------------------------------+------------------+\n",
      "| Memoized Python (Sum of Squares):     |      12.8637     |\n",
      "+---------------------------------------+------------------+\n",
      "| Memoized Python (Fibonacci):          |       1.3124e-05 |\n",
      "+---------------------------------------+------------------+\n",
      "| Memoized Python (Factorial):          |       6.953e-06  |\n",
      "+---------------------------------------+------------------+\n",
      "| Memoized Python (Mean):               |      12.4974     |\n",
      "+---------------------------------------+------------------+\n",
      "| Memoized Python (Standard Deviation): |      13.9446     |\n",
      "+---------------------------------------+------------------+\n",
      "| NumPy (Sum of Squares):               |       0.185801   |\n",
      "+---------------------------------------+------------------+\n",
      "| NumPy (Fibonacci):                    |       5.0525e-05 |\n",
      "+---------------------------------------+------------------+\n",
      "| NumPy (Factorial):                    |       5.3822e-05 |\n",
      "+---------------------------------------+------------------+\n",
      "| NumPy (Mean):                         |       0.0324915  |\n",
      "+---------------------------------------+------------------+\n",
      "| NumPy (Standard Deviation):           |       0.326645   |\n",
      "+---------------------------------------+------------------+\n",
      "| Numba JIT (Sum of Squares):           |       0.110678   |\n",
      "+---------------------------------------+------------------+\n",
      "| Numba JIT (Fibonacci):                |       0.0425639  |\n",
      "+---------------------------------------+------------------+\n",
      "| Numba JIT (Factorial):                |       0.0329022  |\n",
      "+---------------------------------------+------------------+\n",
      "| Numba JIT (Mean):                     |       0.117555   |\n",
      "+---------------------------------------+------------------+\n",
      "| Numba JIT (Standard Deviation):       |       0.603979   |\n",
      "+---------------------------------------+------------------+\n"
     ]
    },
    {
     "data": {
      "application/vnd.plotly.v1+json": {
       "config": {
        "plotlyServerURL": "https://plot.ly"
       },
       "data": [
        {
         "hoverinfo": "text",
         "marker": {
          "color": [
           "#1f77b4",
           "#1f77b4",
           "#1f77b4",
           "#1f77b4",
           "#1f77b4"
          ]
         },
         "name": "Standard Python",
         "orientation": "h",
         "text": [
          "9.64 seconds",
          "0.01 seconds",
          "0.00 seconds",
          "4.84 seconds",
          "20.42 seconds"
         ],
         "type": "bar",
         "x": [
          9.643540389999544,
          0.010744603999228275,
          1.6762000086600892e-05,
          4.843041617999916,
          20.417487416999393
         ],
         "y": [
          "Standard Python (Sum of Squares):",
          "Standard Python (Fibonacci):",
          "Standard Python (Factorial):",
          "Standard Python (Mean):",
          "Standard Python (Standard Deviation):"
         ]
        },
        {
         "hoverinfo": "text",
         "marker": {
          "color": [
           "#ff7f0e",
           "#ff7f0e",
           "#ff7f0e",
           "#ff7f0e",
           "#ff7f0e"
          ]
         },
         "name": "Memoized Python",
         "orientation": "h",
         "text": [
          "12.86 seconds",
          "0.00 seconds",
          "0.00 seconds",
          "12.50 seconds",
          "13.94 seconds"
         ],
         "type": "bar",
         "x": [
          12.86370586800058,
          1.3124000361131039e-05,
          6.952999683562666e-06,
          12.49739605600007,
          13.944587906000379
         ],
         "y": [
          "Memoized Python (Sum of Squares):",
          "Memoized Python (Fibonacci):",
          "Memoized Python (Factorial):",
          "Memoized Python (Mean):",
          "Memoized Python (Standard Deviation):"
         ]
        },
        {
         "hoverinfo": "text",
         "marker": {
          "color": [
           "#2ca02c",
           "#2ca02c",
           "#2ca02c",
           "#2ca02c",
           "#2ca02c"
          ]
         },
         "name": "NumPy",
         "orientation": "h",
         "text": [
          "0.19 seconds",
          "0.00 seconds",
          "0.00 seconds",
          "0.03 seconds",
          "0.33 seconds"
         ],
         "type": "bar",
         "x": [
          0.18580101299994567,
          5.052500000601867e-05,
          5.3821999244973995e-05,
          0.03249146699999983,
          0.3266452730003948
         ],
         "y": [
          "NumPy (Sum of Squares):",
          "NumPy (Fibonacci):",
          "NumPy (Factorial):",
          "NumPy (Mean):",
          "NumPy (Standard Deviation):"
         ]
        },
        {
         "hoverinfo": "text",
         "marker": {
          "color": [
           "#d62728",
           "#d62728",
           "#d62728",
           "#d62728",
           "#d62728"
          ]
         },
         "name": "Numba JIT",
         "orientation": "h",
         "text": [
          "0.11 seconds",
          "0.04 seconds",
          "0.03 seconds",
          "0.12 seconds",
          "0.60 seconds"
         ],
         "type": "bar",
         "x": [
          0.11067800900036673,
          0.04256385900043824,
          0.032902199999625736,
          0.11755474700021296,
          0.6039793650006686
         ],
         "y": [
          "Numba JIT (Sum of Squares):",
          "Numba JIT (Fibonacci):",
          "Numba JIT (Factorial):",
          "Numba JIT (Mean):",
          "Numba JIT (Standard Deviation):"
         ]
        }
       ],
       "layout": {
        "autosize": true,
        "barmode": "group",
        "template": {
         "data": {
          "bar": [
           {
            "error_x": {
             "color": "#2a3f5f"
            },
            "error_y": {
             "color": "#2a3f5f"
            },
            "marker": {
             "line": {
              "color": "#E5ECF6",
              "width": 0.5
             },
             "pattern": {
              "fillmode": "overlay",
              "size": 10,
              "solidity": 0.2
             }
            },
            "type": "bar"
           }
          ],
          "barpolar": [
           {
            "marker": {
             "line": {
              "color": "#E5ECF6",
              "width": 0.5
             },
             "pattern": {
              "fillmode": "overlay",
              "size": 10,
              "solidity": 0.2
             }
            },
            "type": "barpolar"
           }
          ],
          "carpet": [
           {
            "aaxis": {
             "endlinecolor": "#2a3f5f",
             "gridcolor": "white",
             "linecolor": "white",
             "minorgridcolor": "white",
             "startlinecolor": "#2a3f5f"
            },
            "baxis": {
             "endlinecolor": "#2a3f5f",
             "gridcolor": "white",
             "linecolor": "white",
             "minorgridcolor": "white",
             "startlinecolor": "#2a3f5f"
            },
            "type": "carpet"
           }
          ],
          "choropleth": [
           {
            "colorbar": {
             "outlinewidth": 0,
             "ticks": ""
            },
            "type": "choropleth"
           }
          ],
          "contour": [
           {
            "colorbar": {
             "outlinewidth": 0,
             "ticks": ""
            },
            "colorscale": [
             [
              0,
              "#0d0887"
             ],
             [
              0.1111111111111111,
              "#46039f"
             ],
             [
              0.2222222222222222,
              "#7201a8"
             ],
             [
              0.3333333333333333,
              "#9c179e"
             ],
             [
              0.4444444444444444,
              "#bd3786"
             ],
             [
              0.5555555555555556,
              "#d8576b"
             ],
             [
              0.6666666666666666,
              "#ed7953"
             ],
             [
              0.7777777777777778,
              "#fb9f3a"
             ],
             [
              0.8888888888888888,
              "#fdca26"
             ],
             [
              1,
              "#f0f921"
             ]
            ],
            "type": "contour"
           }
          ],
          "contourcarpet": [
           {
            "colorbar": {
             "outlinewidth": 0,
             "ticks": ""
            },
            "type": "contourcarpet"
           }
          ],
          "heatmap": [
           {
            "colorbar": {
             "outlinewidth": 0,
             "ticks": ""
            },
            "colorscale": [
             [
              0,
              "#0d0887"
             ],
             [
              0.1111111111111111,
              "#46039f"
             ],
             [
              0.2222222222222222,
              "#7201a8"
             ],
             [
              0.3333333333333333,
              "#9c179e"
             ],
             [
              0.4444444444444444,
              "#bd3786"
             ],
             [
              0.5555555555555556,
              "#d8576b"
             ],
             [
              0.6666666666666666,
              "#ed7953"
             ],
             [
              0.7777777777777778,
              "#fb9f3a"
             ],
             [
              0.8888888888888888,
              "#fdca26"
             ],
             [
              1,
              "#f0f921"
             ]
            ],
            "type": "heatmap"
           }
          ],
          "heatmapgl": [
           {
            "colorbar": {
             "outlinewidth": 0,
             "ticks": ""
            },
            "colorscale": [
             [
              0,
              "#0d0887"
             ],
             [
              0.1111111111111111,
              "#46039f"
             ],
             [
              0.2222222222222222,
              "#7201a8"
             ],
             [
              0.3333333333333333,
              "#9c179e"
             ],
             [
              0.4444444444444444,
              "#bd3786"
             ],
             [
              0.5555555555555556,
              "#d8576b"
             ],
             [
              0.6666666666666666,
              "#ed7953"
             ],
             [
              0.7777777777777778,
              "#fb9f3a"
             ],
             [
              0.8888888888888888,
              "#fdca26"
             ],
             [
              1,
              "#f0f921"
             ]
            ],
            "type": "heatmapgl"
           }
          ],
          "histogram": [
           {
            "marker": {
             "pattern": {
              "fillmode": "overlay",
              "size": 10,
              "solidity": 0.2
             }
            },
            "type": "histogram"
           }
          ],
          "histogram2d": [
           {
            "colorbar": {
             "outlinewidth": 0,
             "ticks": ""
            },
            "colorscale": [
             [
              0,
              "#0d0887"
             ],
             [
              0.1111111111111111,
              "#46039f"
             ],
             [
              0.2222222222222222,
              "#7201a8"
             ],
             [
              0.3333333333333333,
              "#9c179e"
             ],
             [
              0.4444444444444444,
              "#bd3786"
             ],
             [
              0.5555555555555556,
              "#d8576b"
             ],
             [
              0.6666666666666666,
              "#ed7953"
             ],
             [
              0.7777777777777778,
              "#fb9f3a"
             ],
             [
              0.8888888888888888,
              "#fdca26"
             ],
             [
              1,
              "#f0f921"
             ]
            ],
            "type": "histogram2d"
           }
          ],
          "histogram2dcontour": [
           {
            "colorbar": {
             "outlinewidth": 0,
             "ticks": ""
            },
            "colorscale": [
             [
              0,
              "#0d0887"
             ],
             [
              0.1111111111111111,
              "#46039f"
             ],
             [
              0.2222222222222222,
              "#7201a8"
             ],
             [
              0.3333333333333333,
              "#9c179e"
             ],
             [
              0.4444444444444444,
              "#bd3786"
             ],
             [
              0.5555555555555556,
              "#d8576b"
             ],
             [
              0.6666666666666666,
              "#ed7953"
             ],
             [
              0.7777777777777778,
              "#fb9f3a"
             ],
             [
              0.8888888888888888,
              "#fdca26"
             ],
             [
              1,
              "#f0f921"
             ]
            ],
            "type": "histogram2dcontour"
           }
          ],
          "mesh3d": [
           {
            "colorbar": {
             "outlinewidth": 0,
             "ticks": ""
            },
            "type": "mesh3d"
           }
          ],
          "parcoords": [
           {
            "line": {
             "colorbar": {
              "outlinewidth": 0,
              "ticks": ""
             }
            },
            "type": "parcoords"
           }
          ],
          "pie": [
           {
            "automargin": true,
            "type": "pie"
           }
          ],
          "scatter": [
           {
            "fillpattern": {
             "fillmode": "overlay",
             "size": 10,
             "solidity": 0.2
            },
            "type": "scatter"
           }
          ],
          "scatter3d": [
           {
            "line": {
             "colorbar": {
              "outlinewidth": 0,
              "ticks": ""
             }
            },
            "marker": {
             "colorbar": {
              "outlinewidth": 0,
              "ticks": ""
             }
            },
            "type": "scatter3d"
           }
          ],
          "scattercarpet": [
           {
            "marker": {
             "colorbar": {
              "outlinewidth": 0,
              "ticks": ""
             }
            },
            "type": "scattercarpet"
           }
          ],
          "scattergeo": [
           {
            "marker": {
             "colorbar": {
              "outlinewidth": 0,
              "ticks": ""
             }
            },
            "type": "scattergeo"
           }
          ],
          "scattergl": [
           {
            "marker": {
             "colorbar": {
              "outlinewidth": 0,
              "ticks": ""
             }
            },
            "type": "scattergl"
           }
          ],
          "scattermapbox": [
           {
            "marker": {
             "colorbar": {
              "outlinewidth": 0,
              "ticks": ""
             }
            },
            "type": "scattermapbox"
           }
          ],
          "scatterpolar": [
           {
            "marker": {
             "colorbar": {
              "outlinewidth": 0,
              "ticks": ""
             }
            },
            "type": "scatterpolar"
           }
          ],
          "scatterpolargl": [
           {
            "marker": {
             "colorbar": {
              "outlinewidth": 0,
              "ticks": ""
             }
            },
            "type": "scatterpolargl"
           }
          ],
          "scatterternary": [
           {
            "marker": {
             "colorbar": {
              "outlinewidth": 0,
              "ticks": ""
             }
            },
            "type": "scatterternary"
           }
          ],
          "surface": [
           {
            "colorbar": {
             "outlinewidth": 0,
             "ticks": ""
            },
            "colorscale": [
             [
              0,
              "#0d0887"
             ],
             [
              0.1111111111111111,
              "#46039f"
             ],
             [
              0.2222222222222222,
              "#7201a8"
             ],
             [
              0.3333333333333333,
              "#9c179e"
             ],
             [
              0.4444444444444444,
              "#bd3786"
             ],
             [
              0.5555555555555556,
              "#d8576b"
             ],
             [
              0.6666666666666666,
              "#ed7953"
             ],
             [
              0.7777777777777778,
              "#fb9f3a"
             ],
             [
              0.8888888888888888,
              "#fdca26"
             ],
             [
              1,
              "#f0f921"
             ]
            ],
            "type": "surface"
           }
          ],
          "table": [
           {
            "cells": {
             "fill": {
              "color": "#EBF0F8"
             },
             "line": {
              "color": "white"
             }
            },
            "header": {
             "fill": {
              "color": "#C8D4E3"
             },
             "line": {
              "color": "white"
             }
            },
            "type": "table"
           }
          ]
         },
         "layout": {
          "annotationdefaults": {
           "arrowcolor": "#2a3f5f",
           "arrowhead": 0,
           "arrowwidth": 1
          },
          "autotypenumbers": "strict",
          "coloraxis": {
           "colorbar": {
            "outlinewidth": 0,
            "ticks": ""
           }
          },
          "colorscale": {
           "diverging": [
            [
             0,
             "#8e0152"
            ],
            [
             0.1,
             "#c51b7d"
            ],
            [
             0.2,
             "#de77ae"
            ],
            [
             0.3,
             "#f1b6da"
            ],
            [
             0.4,
             "#fde0ef"
            ],
            [
             0.5,
             "#f7f7f7"
            ],
            [
             0.6,
             "#e6f5d0"
            ],
            [
             0.7,
             "#b8e186"
            ],
            [
             0.8,
             "#7fbc41"
            ],
            [
             0.9,
             "#4d9221"
            ],
            [
             1,
             "#276419"
            ]
           ],
           "sequential": [
            [
             0,
             "#0d0887"
            ],
            [
             0.1111111111111111,
             "#46039f"
            ],
            [
             0.2222222222222222,
             "#7201a8"
            ],
            [
             0.3333333333333333,
             "#9c179e"
            ],
            [
             0.4444444444444444,
             "#bd3786"
            ],
            [
             0.5555555555555556,
             "#d8576b"
            ],
            [
             0.6666666666666666,
             "#ed7953"
            ],
            [
             0.7777777777777778,
             "#fb9f3a"
            ],
            [
             0.8888888888888888,
             "#fdca26"
            ],
            [
             1,
             "#f0f921"
            ]
           ],
           "sequentialminus": [
            [
             0,
             "#0d0887"
            ],
            [
             0.1111111111111111,
             "#46039f"
            ],
            [
             0.2222222222222222,
             "#7201a8"
            ],
            [
             0.3333333333333333,
             "#9c179e"
            ],
            [
             0.4444444444444444,
             "#bd3786"
            ],
            [
             0.5555555555555556,
             "#d8576b"
            ],
            [
             0.6666666666666666,
             "#ed7953"
            ],
            [
             0.7777777777777778,
             "#fb9f3a"
            ],
            [
             0.8888888888888888,
             "#fdca26"
            ],
            [
             1,
             "#f0f921"
            ]
           ]
          },
          "colorway": [
           "#636efa",
           "#EF553B",
           "#00cc96",
           "#ab63fa",
           "#FFA15A",
           "#19d3f3",
           "#FF6692",
           "#B6E880",
           "#FF97FF",
           "#FECB52"
          ],
          "font": {
           "color": "#2a3f5f"
          },
          "geo": {
           "bgcolor": "white",
           "lakecolor": "white",
           "landcolor": "#E5ECF6",
           "showlakes": true,
           "showland": true,
           "subunitcolor": "white"
          },
          "hoverlabel": {
           "align": "left"
          },
          "hovermode": "closest",
          "mapbox": {
           "style": "light"
          },
          "paper_bgcolor": "white",
          "plot_bgcolor": "#E5ECF6",
          "polar": {
           "angularaxis": {
            "gridcolor": "white",
            "linecolor": "white",
            "ticks": ""
           },
           "bgcolor": "#E5ECF6",
           "radialaxis": {
            "gridcolor": "white",
            "linecolor": "white",
            "ticks": ""
           }
          },
          "scene": {
           "xaxis": {
            "backgroundcolor": "#E5ECF6",
            "gridcolor": "white",
            "gridwidth": 2,
            "linecolor": "white",
            "showbackground": true,
            "ticks": "",
            "zerolinecolor": "white"
           },
           "yaxis": {
            "backgroundcolor": "#E5ECF6",
            "gridcolor": "white",
            "gridwidth": 2,
            "linecolor": "white",
            "showbackground": true,
            "ticks": "",
            "zerolinecolor": "white"
           },
           "zaxis": {
            "backgroundcolor": "#E5ECF6",
            "gridcolor": "white",
            "gridwidth": 2,
            "linecolor": "white",
            "showbackground": true,
            "ticks": "",
            "zerolinecolor": "white"
           }
          },
          "shapedefaults": {
           "line": {
            "color": "#2a3f5f"
           }
          },
          "ternary": {
           "aaxis": {
            "gridcolor": "white",
            "linecolor": "white",
            "ticks": ""
           },
           "baxis": {
            "gridcolor": "white",
            "linecolor": "white",
            "ticks": ""
           },
           "bgcolor": "#E5ECF6",
           "caxis": {
            "gridcolor": "white",
            "linecolor": "white",
            "ticks": ""
           }
          },
          "title": {
           "x": 0.05
          },
          "xaxis": {
           "automargin": true,
           "gridcolor": "white",
           "linecolor": "white",
           "ticks": "",
           "title": {
            "standoff": 15
           },
           "zerolinecolor": "white",
           "zerolinewidth": 2
          },
          "yaxis": {
           "automargin": true,
           "gridcolor": "white",
           "linecolor": "white",
           "ticks": "",
           "title": {
            "standoff": 15
           },
           "zerolinecolor": "white",
           "zerolinewidth": 2
          }
         }
        },
        "title": {
         "text": "Execution Time Comparison"
        },
        "xaxis": {
         "autorange": true,
         "range": [
          0,
          21.492092017894098
         ],
         "title": {
          "text": "Execution Time (seconds)"
         },
         "type": "linear"
        },
        "yaxis": {
         "autorange": true,
         "range": [
          -0.5,
          19.5
         ],
         "title": {
          "text": "Function"
         },
         "type": "category"
        }
       }
      },
      "image/png": "[encoded data removed]",
      "text/html": [
       "<div>                            <div id=\"cd8783ab-16bf-46f3-86e8-edec2dbf95b9\" class=\"plotly-graph-div\" style=\"height:600px; width:100%;\"></div>            <script type=\"text/javascript\">                require([\"plotly\"], function(Plotly) {                    window.PLOTLYENV=window.PLOTLYENV || {};                                    if (document.getElementById(\"cd8783ab-16bf-46f3-86e8-edec2dbf95b9\")) {                    Plotly.newPlot(                        \"cd8783ab-16bf-46f3-86e8-edec2dbf95b9\",                        [{\"hoverinfo\":\"text\",\"marker\":{\"color\":[\"#1f77b4\",\"#1f77b4\",\"#1f77b4\",\"#1f77b4\",\"#1f77b4\"]},\"name\":\"Standard Python\",\"orientation\":\"h\",\"text\":[\"9.64 seconds\",\"0.01 seconds\",\"0.00 seconds\",\"4.84 seconds\",\"20.42 seconds\"],\"x\":[9.643540389999544,0.010744603999228275,1.6762000086600892e-05,4.843041617999916,20.417487416999393],\"y\":[\"Standard Python (Sum of Squares):\",\"Standard Python (Fibonacci):\",\"Standard Python (Factorial):\",\"Standard Python (Mean):\",\"Standard Python (Standard Deviation):\"],\"type\":\"bar\"},{\"hoverinfo\":\"text\",\"marker\":{\"color\":[\"#ff7f0e\",\"#ff7f0e\",\"#ff7f0e\",\"#ff7f0e\",\"#ff7f0e\"]},\"name\":\"Memoized Python\",\"orientation\":\"h\",\"text\":[\"12.86 seconds\",\"0.00 seconds\",\"0.00 seconds\",\"12.50 seconds\",\"13.94 seconds\"],\"x\":[12.86370586800058,1.3124000361131039e-05,6.952999683562666e-06,12.49739605600007,13.944587906000379],\"y\":[\"Memoized Python (Sum of Squares):\",\"Memoized Python (Fibonacci):\",\"Memoized Python (Factorial):\",\"Memoized Python (Mean):\",\"Memoized Python (Standard Deviation):\"],\"type\":\"bar\"},{\"hoverinfo\":\"text\",\"marker\":{\"color\":[\"#2ca02c\",\"#2ca02c\",\"#2ca02c\",\"#2ca02c\",\"#2ca02c\"]},\"name\":\"NumPy\",\"orientation\":\"h\",\"text\":[\"0.19 seconds\",\"0.00 seconds\",\"0.00 seconds\",\"0.03 seconds\",\"0.33 seconds\"],\"x\":[0.18580101299994567,5.052500000601867e-05,5.3821999244973995e-05,0.03249146699999983,0.3266452730003948],\"y\":[\"NumPy (Sum of Squares):\",\"NumPy (Fibonacci):\",\"NumPy (Factorial):\",\"NumPy (Mean):\",\"NumPy (Standard Deviation):\"],\"type\":\"bar\"},{\"hoverinfo\":\"text\",\"marker\":{\"color\":[\"#d62728\",\"#d62728\",\"#d62728\",\"#d62728\",\"#d62728\"]},\"name\":\"Numba JIT\",\"orientation\":\"h\",\"text\":[\"0.11 seconds\",\"0.04 seconds\",\"0.03 seconds\",\"0.12 seconds\",\"0.60 seconds\"],\"x\":[0.11067800900036673,0.04256385900043824,0.032902199999625736,0.11755474700021296,0.6039793650006686],\"y\":[\"Numba JIT (Sum of Squares):\",\"Numba JIT (Fibonacci):\",\"Numba JIT (Factorial):\",\"Numba JIT (Mean):\",\"Numba JIT (Standard Deviation):\"],\"type\":\"bar\"}],                        {\"template\":{\"data\":{\"histogram2dcontour\":[{\"type\":\"histogram2dcontour\",\"colorbar\":{\"outlinewidth\":0,\"ticks\":\"\"},\"colorscale\":[[0.0,\"#0d0887\"],[0.1111111111111111,\"#46039f\"],[0.2222222222222222,\"#7201a8\"],[0.3333333333333333,\"#9c179e\"],[0.4444444444444444,\"#bd3786\"],[0.5555555555555556,\"#d8576b\"],[0.6666666666666666,\"#ed7953\"],[0.7777777777777778,\"#fb9f3a\"],[0.8888888888888888,\"#fdca26\"],[1.0,\"#f0f921\"]]}],\"choropleth\":[{\"type\":\"choropleth\",\"colorbar\":{\"outlinewidth\":0,\"ticks\":\"\"}}],\"histogram2d\":[{\"type\":\"histogram2d\",\"colorbar\":{\"outlinewidth\":0,\"ticks\":\"\"},\"colorscale\":[[0.0,\"#0d0887\"],[0.1111111111111111,\"#46039f\"],[0.2222222222222222,\"#7201a8\"],[0.3333333333333333,\"#9c179e\"],[0.4444444444444444,\"#bd3786\"],[0.5555555555555556,\"#d8576b\"],[0.6666666666666666,\"#ed7953\"],[0.7777777777777778,\"#fb9f3a\"],[0.8888888888888888,\"#fdca26\"],[1.0,\"#f0f921\"]]}],\"heatmap\":[{\"type\":\"heatmap\",\"colorbar\":{\"outlinewidth\":0,\"ticks\":\"\"},\"colorscale\":[[0.0,\"#0d0887\"],[0.1111111111111111,\"#46039f\"],[0.2222222222222222,\"#7201a8\"],[0.3333333333333333,\"#9c179e\"],[0.4444444444444444,\"#bd3786\"],[0.5555555555555556,\"#d8576b\"],[0.6666666666666666,\"#ed7953\"],[0.7777777777777778,\"#fb9f3a\"],[0.8888888888888888,\"#fdca26\"],[1.0,\"#f0f921\"]]}],\"heatmapgl\":[{\"type\":\"heatmapgl\",\"colorbar\":{\"outlinewidth\":0,\"ticks\":\"\"},\"colorscale\":[[0.0,\"#0d0887\"],[0.1111111111111111,\"#46039f\"],[0.2222222222222222,\"#7201a8\"],[0.3333333333333333,\"#9c179e\"],[0.4444444444444444,\"#bd3786\"],[0.5555555555555556,\"#d8576b\"],[0.6666666666666666,\"#ed7953\"],[0.7777777777777778,\"#fb9f3a\"],[0.8888888888888888,\"#fdca26\"],[1.0,\"#f0f921\"]]}],\"contourcarpet\":[{\"type\":\"contourcarpet\",\"colorbar\":{\"outlinewidth\":0,\"ticks\":\"\"}}],\"contour\":[{\"type\":\"contour\",\"colorbar\":{\"outlinewidth\":0,\"ticks\":\"\"},\"colorscale\":[[0.0,\"#0d0887\"],[0.1111111111111111,\"#46039f\"],[0.2222222222222222,\"#7201a8\"],[0.3333333333333333,\"#9c179e\"],[0.4444444444444444,\"#bd3786\"],[0.5555555555555556,\"#d8576b\"],[0.6666666666666666,\"#ed7953\"],[0.7777777777777778,\"#fb9f3a\"],[0.8888888888888888,\"#fdca26\"],[1.0,\"#f0f921\"]]}],\"surface\":[{\"type\":\"surface\",\"colorbar\":{\"outlinewidth\":0,\"ticks\":\"\"},\"colorscale\":[[0.0,\"#0d0887\"],[0.1111111111111111,\"#46039f\"],[0.2222222222222222,\"#7201a8\"],[0.3333333333333333,\"#9c179e\"],[0.4444444444444444,\"#bd3786\"],[0.5555555555555556,\"#d8576b\"],[0.6666666666666666,\"#ed7953\"],[0.7777777777777778,\"#fb9f3a\"],[0.8888888888888888,\"#fdca26\"],[1.0,\"#f0f921\"]]}],\"mesh3d\":[{\"type\":\"mesh3d\",\"colorbar\":{\"outlinewidth\":0,\"ticks\":\"\"}}],\"scatter\":[{\"fillpattern\":{\"fillmode\":\"overlay\",\"size\":10,\"solidity\":0.2},\"type\":\"scatter\"}],\"parcoords\":[{\"type\":\"parcoords\",\"line\":{\"colorbar\":{\"outlinewidth\":0,\"ticks\":\"\"}}}],\"scatterpolargl\":[{\"type\":\"scatterpolargl\",\"marker\":{\"colorbar\":{\"outlinewidth\":0,\"ticks\":\"\"}}}],\"bar\":[{\"error_x\":{\"color\":\"#2a3f5f\"},\"error_y\":{\"color\":\"#2a3f5f\"},\"marker\":{\"line\":{\"color\":\"#E5ECF6\",\"width\":0.5},\"pattern\":{\"fillmode\":\"overlay\",\"size\":10,\"solidity\":0.2}},\"type\":\"bar\"}],\"scattergeo\":[{\"type\":\"scattergeo\",\"marker\":{\"colorbar\":{\"outlinewidth\":0,\"ticks\":\"\"}}}],\"scatterpolar\":[{\"type\":\"scatterpolar\",\"marker\":{\"colorbar\":{\"outlinewidth\":0,\"ticks\":\"\"}}}],\"histogram\":[{\"marker\":{\"pattern\":{\"fillmode\":\"overlay\",\"size\":10,\"solidity\":0.2}},\"type\":\"histogram\"}],\"scattergl\":[{\"type\":\"scattergl\",\"marker\":{\"colorbar\":{\"outlinewidth\":0,\"ticks\":\"\"}}}],\"scatter3d\":[{\"type\":\"scatter3d\",\"line\":{\"colorbar\":{\"outlinewidth\":0,\"ticks\":\"\"}},\"marker\":{\"colorbar\":{\"outlinewidth\":0,\"ticks\":\"\"}}}],\"scattermapbox\":[{\"type\":\"scattermapbox\",\"marker\":{\"colorbar\":{\"outlinewidth\":0,\"ticks\":\"\"}}}],\"scatterternary\":[{\"type\":\"scatterternary\",\"marker\":{\"colorbar\":{\"outlinewidth\":0,\"ticks\":\"\"}}}],\"scattercarpet\":[{\"type\":\"scattercarpet\",\"marker\":{\"colorbar\":{\"outlinewidth\":0,\"ticks\":\"\"}}}],\"carpet\":[{\"aaxis\":{\"endlinecolor\":\"#2a3f5f\",\"gridcolor\":\"white\",\"linecolor\":\"white\",\"minorgridcolor\":\"white\",\"startlinecolor\":\"#2a3f5f\"},\"baxis\":{\"endlinecolor\":\"#2a3f5f\",\"gridcolor\":\"white\",\"linecolor\":\"white\",\"minorgridcolor\":\"white\",\"startlinecolor\":\"#2a3f5f\"},\"type\":\"carpet\"}],\"table\":[{\"cells\":{\"fill\":{\"color\":\"#EBF0F8\"},\"line\":{\"color\":\"white\"}},\"header\":{\"fill\":{\"color\":\"#C8D4E3\"},\"line\":{\"color\":\"white\"}},\"type\":\"table\"}],\"barpolar\":[{\"marker\":{\"line\":{\"color\":\"#E5ECF6\",\"width\":0.5},\"pattern\":{\"fillmode\":\"overlay\",\"size\":10,\"solidity\":0.2}},\"type\":\"barpolar\"}],\"pie\":[{\"automargin\":true,\"type\":\"pie\"}]},\"layout\":{\"autotypenumbers\":\"strict\",\"colorway\":[\"#636efa\",\"#EF553B\",\"#00cc96\",\"#ab63fa\",\"#FFA15A\",\"#19d3f3\",\"#FF6692\",\"#B6E880\",\"#FF97FF\",\"#FECB52\"],\"font\":{\"color\":\"#2a3f5f\"},\"hovermode\":\"closest\",\"hoverlabel\":{\"align\":\"left\"},\"paper_bgcolor\":\"white\",\"plot_bgcolor\":\"#E5ECF6\",\"polar\":{\"bgcolor\":\"#E5ECF6\",\"angularaxis\":{\"gridcolor\":\"white\",\"linecolor\":\"white\",\"ticks\":\"\"},\"radialaxis\":{\"gridcolor\":\"white\",\"linecolor\":\"white\",\"ticks\":\"\"}},\"ternary\":{\"bgcolor\":\"#E5ECF6\",\"aaxis\":{\"gridcolor\":\"white\",\"linecolor\":\"white\",\"ticks\":\"\"},\"baxis\":{\"gridcolor\":\"white\",\"linecolor\":\"white\",\"ticks\":\"\"},\"caxis\":{\"gridcolor\":\"white\",\"linecolor\":\"white\",\"ticks\":\"\"}},\"coloraxis\":{\"colorbar\":{\"outlinewidth\":0,\"ticks\":\"\"}},\"colorscale\":{\"sequential\":[[0.0,\"#0d0887\"],[0.1111111111111111,\"#46039f\"],[0.2222222222222222,\"#7201a8\"],[0.3333333333333333,\"#9c179e\"],[0.4444444444444444,\"#bd3786\"],[0.5555555555555556,\"#d8576b\"],[0.6666666666666666,\"#ed7953\"],[0.7777777777777778,\"#fb9f3a\"],[0.8888888888888888,\"#fdca26\"],[1.0,\"#f0f921\"]],\"sequentialminus\":[[0.0,\"#0d0887\"],[0.1111111111111111,\"#46039f\"],[0.2222222222222222,\"#7201a8\"],[0.3333333333333333,\"#9c179e\"],[0.4444444444444444,\"#bd3786\"],[0.5555555555555556,\"#d8576b\"],[0.6666666666666666,\"#ed7953\"],[0.7777777777777778,\"#fb9f3a\"],[0.8888888888888888,\"#fdca26\"],[1.0,\"#f0f921\"]],\"diverging\":[[0,\"#8e0152\"],[0.1,\"#c51b7d\"],[0.2,\"#de77ae\"],[0.3,\"#f1b6da\"],[0.4,\"#fde0ef\"],[0.5,\"#f7f7f7\"],[0.6,\"#e6f5d0\"],[0.7,\"#b8e186\"],[0.8,\"#7fbc41\"],[0.9,\"#4d9221\"],[1,\"#276419\"]]},\"xaxis\":{\"gridcolor\":\"white\",\"linecolor\":\"white\",\"ticks\":\"\",\"title\":{\"standoff\":15},\"zerolinecolor\":\"white\",\"automargin\":true,\"zerolinewidth\":2},\"yaxis\":{\"gridcolor\":\"white\",\"linecolor\":\"white\",\"ticks\":\"\",\"title\":{\"standoff\":15},\"zerolinecolor\":\"white\",\"automargin\":true,\"zerolinewidth\":2},\"scene\":{\"xaxis\":{\"backgroundcolor\":\"#E5ECF6\",\"gridcolor\":\"white\",\"linecolor\":\"white\",\"showbackground\":true,\"ticks\":\"\",\"zerolinecolor\":\"white\",\"gridwidth\":2},\"yaxis\":{\"backgroundcolor\":\"#E5ECF6\",\"gridcolor\":\"white\",\"linecolor\":\"white\",\"showbackground\":true,\"ticks\":\"\",\"zerolinecolor\":\"white\",\"gridwidth\":2},\"zaxis\":{\"backgroundcolor\":\"#E5ECF6\",\"gridcolor\":\"white\",\"linecolor\":\"white\",\"showbackground\":true,\"ticks\":\"\",\"zerolinecolor\":\"white\",\"gridwidth\":2}},\"shapedefaults\":{\"line\":{\"color\":\"#2a3f5f\"}},\"annotationdefaults\":{\"arrowcolor\":\"#2a3f5f\",\"arrowhead\":0,\"arrowwidth\":1},\"geo\":{\"bgcolor\":\"white\",\"landcolor\":\"#E5ECF6\",\"subunitcolor\":\"white\",\"showland\":true,\"showlakes\":true,\"lakecolor\":\"white\"},\"title\":{\"x\":0.05},\"mapbox\":{\"style\":\"light\"}}},\"title\":{\"text\":\"Execution Time Comparison\"},\"xaxis\":{\"title\":{\"text\":\"Execution Time (seconds)\"}},\"yaxis\":{\"title\":{\"text\":\"Function\"}},\"height\":600,\"barmode\":\"group\"},                        {\"responsive\": true}                    ).then(function(){\n",
       "                            \n",
       "var gd = document.getElementById('cd8783ab-16bf-46f3-86e8-edec2dbf95b9');\n",
       "var x = new MutationObserver(function (mutations, observer) {{\n",
       "        var display = window.getComputedStyle(gd).display;\n",
       "        if (!display || display === 'none') {{\n",
       "            console.log([gd, 'removed!']);\n",
       "            Plotly.purge(gd);\n",
       "            observer.disconnect();\n",
       "        }}\n",
       "}});\n",
       "\n",
       "// Listen for the removal of the full notebook cells\n",
       "var notebookContainer = gd.closest('#notebook-container');\n",
       "if (notebookContainer) {{\n",
       "    x.observe(notebookContainer, {childList: true});\n",
       "}}\n",
       "\n",
       "// Listen for the clearing of the current output cell\n",
       "var outputEl = gd.closest('.output');\n",
       "if (outputEl) {{\n",
       "    x.observe(outputEl, {childList: true});\n",
       "}}\n",
       "\n",
       "                        })                };                });            </script>        </div>"
      ]
     },
     "metadata": {},
     "output_type": "display_data"
    }
   ],
   "source": [
    "import numpy as np\n",
    "from numba import jit\n",
    "import timeit\n",
    "from tabulate import tabulate\n",
    "import matplotlib.pyplot as plt\n",
    "\n",
    "# Manual memoization for sum of squares\n",
    "sum_of_squares_cache = {}\n",
    "def python_sum_of_squares_memoized(arr):\n",
    "    if tuple(arr) not in sum_of_squares_cache:\n",
    "        result = 0\n",
    "        for num in arr:\n",
    "            result += num * num\n",
    "        sum_of_squares_cache[tuple(arr)] = result\n",
    "    return sum_of_squares_cache[tuple(arr)]\n",
    "\n",
    "# Manual memoization for Fibonacci\n",
    "fibonacci_cache = {}\n",
    "def python_fibonacci_memoized(n):\n",
    "    if n not in fibonacci_cache:\n",
    "        if n <= 1:\n",
    "            fibonacci_cache[n] = n\n",
    "        else:\n",
    "            fibonacci_cache[n] = python_fibonacci_memoized(n-1) + python_fibonacci_memoized(n-2)\n",
    "    return fibonacci_cache[n]\n",
    "\n",
    "# Manual memoization for factorial\n",
    "factorial_cache = {}\n",
    "def python_factorial_memoized(n):\n",
    "    if n not in factorial_cache:\n",
    "        if n == 0:\n",
    "            factorial_cache[n] = 1\n",
    "        else:\n",
    "            factorial_cache[n] = n * python_factorial_memoized(n-1)\n",
    "    return factorial_cache[n]\n",
    "\n",
    "# Manual memoization for mean\n",
    "mean_cache = {}\n",
    "def python_mean_memoized(arr):\n",
    "    if tuple(arr) not in mean_cache:\n",
    "        mean_cache[tuple(arr)] = sum(arr) / len(arr)\n",
    "    return mean_cache[tuple(arr)]\n",
    "\n",
    "# Manual memoization for standard deviation\n",
    "stddev_cache = {}\n",
    "def python_stddev_memoized(arr):\n",
    "    if tuple(arr) not in stddev_cache:\n",
    "        mean = sum(arr) / len(arr)\n",
    "        variance = sum((x - mean) ** 2 for x in arr) / len(arr)\n",
    "        stddev_cache[tuple(arr)] = variance ** 0.5\n",
    "    return stddev_cache[tuple(arr)]\n",
    "\n",
    "# Standard Python function for sum of squares\n",
    "def python_sum_of_squares(arr):\n",
    "    result = 0\n",
    "    for num in arr:\n",
    "        result += num * num\n",
    "    return result\n",
    "\n",
    "# Standard Python function for Fibonacci\n",
    "def python_fibonacci(n):\n",
    "    if n <= 1:\n",
    "        return n\n",
    "    else:\n",
    "        return python_fibonacci(n-1) + python_fibonacci(n-2)\n",
    "\n",
    "# Standard Python function for factorial\n",
    "def python_factorial(n):\n",
    "    if n == 0:\n",
    "        return 1\n",
    "    else:\n",
    "        return n * python_factorial(n-1)\n",
    "\n",
    "# Standard Python function for calculating mean\n",
    "def python_mean(arr):\n",
    "    return sum(arr) / len(arr)\n",
    "\n",
    "# Standard Python function for calculating standard deviation\n",
    "def python_stddev(arr):\n",
    "    mean = sum(arr) / len(arr)\n",
    "    variance = sum((x - mean) ** 2 for x in arr) / len(arr)\n",
    "    return variance ** 0.5\n",
    "\n",
    "# Numpy function for sum of squares\n",
    "def numpy_sum_of_squares(arr):\n",
    "    return np.sum(arr ** 2)\n",
    "\n",
    "# Numpy function for Fibonacci\n",
    "def numpy_fibonacci(n):\n",
    "    fib = np.zeros(n+1)\n",
    "    fib[1] = 1\n",
    "    for i in range(2, n+1):\n",
    "        fib[i] = fib[i-1] + fib[i-2]\n",
    "    return fib[n]\n",
    "\n",
    "# Numpy function for factorial\n",
    "def numpy_factorial(n):\n",
    "    return np.prod(np.arange(1, n+1))\n",
    "\n",
    "# Numpy function for calculating mean\n",
    "def numpy_mean(arr):\n",
    "    return np.mean(arr)\n",
    "\n",
    "# Numpy function for calculating standard deviation\n",
    "def numpy_stddev(arr):\n",
    "    return np.std(arr)\n",
    "\n",
    "# Warm-up Numba JIT functions\n",
    "@jit\n",
    "def numba_sum_of_squares(arr):\n",
    "    result = 0\n",
    "    for num in arr:\n",
    "        result += num * num\n",
    "    return result\n",
    "\n",
    "@jit\n",
    "def numba_fibonacci(n):\n",
    "    if n <= 1:\n",
    "        return n\n",
    "    else:\n",
    "        return numba_fibonacci(n-1) + numba_fibonacci(n-2)\n",
    "\n",
    "@jit\n",
    "def numba_factorial(n):\n",
    "    if n == 0:\n",
    "        return 1\n",
    "    else:\n",
    "        return n * numba_factorial(n-1)\n",
    "\n",
    "@jit\n",
    "def numba_mean(arr):\n",
    "    result = 0\n",
    "    for num in arr:\n",
    "        result += num\n",
    "    return result / len(arr)\n",
    "\n",
    "@jit\n",
    "def numba_stddev(arr):\n",
    "    mean = np.mean(arr)\n",
    "    variance = np.sum((arr - mean) ** 2) / len(arr)\n",
    "    return variance ** 0.5\n",
    "\n",
    "# Generate a large random array\n",
    "arr = np.random.rand(10**7)\n",
    "\n",
    "# Measure time for each function\n",
    "results = []\n",
    "\n",
    "# Time standard Python functions\n",
    "results.append([\"Standard Python (Sum of Squares):\", timeit.timeit(lambda: python_sum_of_squares(arr), number=10)])\n",
    "results.append([\"Standard Python (Fibonacci):\", timeit.timeit(lambda: python_fibonacci(20), number=10)])\n",
    "results.append([\"Standard Python (Factorial):\", timeit.timeit(lambda: python_factorial(20), number=10)])\n",
    "results.append([\"Standard Python (Mean):\", timeit.timeit(lambda: python_mean(arr), number=10)])\n",
    "results.append([\"Standard Python (Standard Deviation):\", timeit.timeit(lambda: python_stddev(arr), number=10)])\n",
    "\n",
    "# Time memoized Python functions\n",
    "results.append([\"Memoized Python (Sum of Squares):\", timeit.timeit(lambda: python_sum_of_squares_memoized(arr), number=10)])\n",
    "results.append([\"Memoized Python (Fibonacci):\", timeit.timeit(lambda: python_fibonacci_memoized(20), number=10)])\n",
    "results.append([\"Memoized Python (Factorial):\", timeit.timeit(lambda: python_factorial_memoized(20), number=10)])\n",
    "results.append([\"Memoized Python (Mean):\", timeit.timeit(lambda: python_mean_memoized(arr), number=10)])\n",
    "results.append([\"Memoized Python (Standard Deviation):\", timeit.timeit(lambda: python_stddev_memoized(arr), number=10)])\n",
    "\n",
    "# Time NumPy functions\n",
    "results.append([\"NumPy (Sum of Squares):\", timeit.timeit(lambda: numpy_sum_of_squares(arr), number=10)])\n",
    "results.append([\"NumPy (Fibonacci):\", timeit.timeit(lambda: numpy_fibonacci(20), number=10)])\n",
    "results.append([\"NumPy (Factorial):\", timeit.timeit(lambda: numpy_factorial(20), number=10)])\n",
    "results.append([\"NumPy (Mean):\", timeit.timeit(lambda: numpy_mean(arr), number=10)])\n",
    "results.append([\"NumPy (Standard Deviation):\", timeit.timeit(lambda: numpy_stddev(arr), number=10)])\n",
    "\n",
    "# Time Numba JIT functions\n",
    "results.append([\"Numba JIT (Sum of Squares):\", timeit.timeit(lambda: numba_sum_of_squares(arr), number=10)])\n",
    "results.append([\"Numba JIT (Fibonacci):\", timeit.timeit(lambda: numba_fibonacci(20), number=10)])\n",
    "results.append([\"Numba JIT (Factorial):\", timeit.timeit(lambda: numba_factorial(20), number=10)])\n",
    "results.append([\"Numba JIT (Mean):\", timeit.timeit(lambda: numba_mean(arr), number=10)])\n",
    "results.append([\"Numba JIT (Standard Deviation):\", timeit.timeit(lambda: numba_stddev(arr), number=10)])\n",
    "\n",
    "# Print results in a table\n",
    "print(tabulate(results, headers=[\"Function\", \"Time (seconds)\"], tablefmt=\"grid\"))\n",
    "\n",
    "import plotly.graph_objects as go\n",
    "\n",
    "# Extract function names and execution times\n",
    "functions = [result[0] for result in results]\n",
    "execution_times = [result[1] for result in results]\n",
    "\n",
    "# Assigning colors for each function\n",
    "colors = ['#1f77b4', '#ff7f0e', '#2ca02c', '#d62728', '#9467bd', '#8c564b', '#e377c2', '#7f7f7f', '#bcbd22', '#17becf']\n",
    "\n",
    "# Define techniques\n",
    "techniques = ['Standard Python', 'Memoized Python', 'NumPy', 'Numba JIT']\n",
    "\n",
    "# Create a Plotly figure\n",
    "fig = go.Figure()\n",
    "\n",
    "# Add bars for each technique\n",
    "for i, technique in enumerate(techniques):\n",
    "    functions_in_technique = functions[i * 5: (i + 1) * 5]\n",
    "    execution_times_in_technique = execution_times[i * 5: (i + 1) * 5]\n",
    "    \n",
    "    fig.add_trace(go.Bar(\n",
    "        y=functions_in_technique,\n",
    "        x=execution_times_in_technique,\n",
    "        name=technique,\n",
    "        marker_color=[colors[i] for _ in range(5)],  # Assigning color for each bar in the group\n",
    "        orientation='h',\n",
    "        text=[f\"{t:.2f} seconds\" for t in execution_times_in_technique],  # Display text on hover\n",
    "        hoverinfo='text'\n",
    "    ))\n",
    "\n",
    "# Customize layout\n",
    "fig.update_layout(\n",
    "    title='Execution Time Comparison',\n",
    "    xaxis_title='Execution Time (seconds)',\n",
    "    yaxis_title='Function',\n",
    "    height=600,\n",
    "    barmode='group'  # Group bars by technique\n",
    ")\n",
    "\n",
    "# Show the figure\n",
    "fig.show()\n",
    "\n"
   ]
  },
  {
   "cell_type": "code",
   "execution_count": null,
   "id": "70f87746-bd52-467c-bf88-192758e59793",
   "metadata": {},
   "outputs": [],
   "source": [
    "\n"
   ]
  },
  {
   "cell_type": "code",
   "execution_count": null,
   "id": "ee0479f4-b5e7-494f-9ae8-adc99ba8c766",
   "metadata": {},
   "outputs": [],
   "source": [
    "\n"
   ]
  },
  {
   "cell_type": "code",
   "execution_count": null,
   "id": "b1d354c9-d635-45a5-8fbf-989b7de52828",
   "metadata": {},
   "outputs": [],
   "source": [
    "\n",
    "\n",
    "\n"
   ]
  },
  {
   "cell_type": "code",
   "execution_count": null,
   "id": "51618333-779b-4b71-bc61-c6fb16e06abe",
   "metadata": {},
   "outputs": [],
   "source": [
    "\n",
    "\n"
   ]
  },
  {
   "cell_type": "code",
   "execution_count": null,
   "id": "9454d8ec-8a87-4570-a570-9d503fc7ef35",
   "metadata": {},
   "outputs": [],
   "source": [
    "\n"
   ]
  },
  {
   "cell_type": "code",
   "execution_count": null,
   "id": "3cbf1802-945a-4aaf-8624-95de1253763c",
   "metadata": {},
   "outputs": [],
   "source": []
  }
 ],
 "metadata": {
  "kernelspec": {
   "display_name": "Python 3 (ipykernel)",
   "language": "python",
   "name": "python3"
  },
  "language_info": {
   "codemirror_mode": {
    "name": "ipython",
    "version": 3
   },
   "file_extension": ".py",
   "mimetype": "text/x-python",
   "name": "python",
   "nbconvert_exporter": "python",
   "pygments_lexer": "ipython3",
   "version": "3.10.12"
  }
 },
 "nbformat": 4,
 "nbformat_minor": 5
}
